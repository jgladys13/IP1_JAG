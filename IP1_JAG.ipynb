{
 "cells": [
  {
   "cell_type": "markdown",
   "id": "3bd33ec7",
   "metadata": {},
   "source": [
    "**IP1_JAG**\n",
    "\n",
    "**Joey Gladys**\n",
    "\n",
    "**Version 1.0**\n",
    "\n",
    "**Spring 2022**"
   ]
  },
  {
   "cell_type": "markdown",
   "id": "73dbae94",
   "metadata": {},
   "source": [
    "# a."
   ]
  },
  {
   "cell_type": "code",
   "execution_count": 3,
   "id": "5b9b78bf",
   "metadata": {},
   "outputs": [
    {
     "data": {
      "text/plain": [
       "array([[10, 20],\n",
       "       [30, 40]])"
      ]
     },
     "execution_count": 3,
     "metadata": {},
     "output_type": "execute_result"
    }
   ],
   "source": [
    "import numpy as np\n",
    "arr1 = np.array([[10,20],[30,40]])\n",
    "arr1"
   ]
  },
  {
   "cell_type": "code",
   "execution_count": 4,
   "id": "1eb5b9f2",
   "metadata": {},
   "outputs": [
    {
     "data": {
      "text/plain": [
       "array([[ 100,  400],\n",
       "       [ 900, 1600]])"
      ]
     },
     "execution_count": 4,
     "metadata": {},
     "output_type": "execute_result"
    }
   ],
   "source": [
    "arr1**2"
   ]
  },
  {
   "cell_type": "code",
   "execution_count": 5,
   "id": "48b0bd14",
   "metadata": {},
   "outputs": [
    {
     "data": {
      "text/plain": [
       "array([[110, 120],\n",
       "       [130, 140]])"
      ]
     },
     "execution_count": 5,
     "metadata": {},
     "output_type": "execute_result"
    }
   ],
   "source": [
    "arr1+100"
   ]
  },
  {
   "cell_type": "code",
   "execution_count": 6,
   "id": "4b0de2aa",
   "metadata": {},
   "outputs": [
    {
     "data": {
      "text/plain": [
       "array([[ 50, 100],\n",
       "       [150, 200]])"
      ]
     },
     "execution_count": 6,
     "metadata": {},
     "output_type": "execute_result"
    }
   ],
   "source": [
    "arr1*5"
   ]
  },
  {
   "cell_type": "code",
   "execution_count": 7,
   "id": "01c01f69",
   "metadata": {},
   "outputs": [
    {
     "data": {
      "text/plain": [
       "array([[3.16227766, 4.47213595],\n",
       "       [5.47722558, 6.32455532]])"
      ]
     },
     "execution_count": 7,
     "metadata": {},
     "output_type": "execute_result"
    }
   ],
   "source": [
    "np.sqrt(arr1)"
   ]
  },
  {
   "cell_type": "markdown",
   "id": "cdbe9b8e",
   "metadata": {},
   "source": [
    "# b."
   ]
  },
  {
   "cell_type": "code",
   "execution_count": 8,
   "id": "8a40a996",
   "metadata": {},
   "outputs": [
    {
     "data": {
      "text/plain": [
       "array([[ 33,  72, 117],\n",
       "       [168, 225, 288],\n",
       "       [357, 432, 513]])"
      ]
     },
     "execution_count": 8,
     "metadata": {},
     "output_type": "execute_result"
    }
   ],
   "source": [
    "arr2 = np.array([[3,6,9],[12,15,18],[21,24,27]])\n",
    "arr3 = np.array([[11,12,13],[14,15,16],[17,18,19]])\n",
    "arr2*arr3"
   ]
  },
  {
   "cell_type": "markdown",
   "id": "dd673990",
   "metadata": {},
   "source": [
    "# c."
   ]
  },
  {
   "cell_type": "code",
   "execution_count": 39,
   "id": "ec6364c7",
   "metadata": {},
   "outputs": [
    {
     "name": "stdout",
     "output_type": "stream",
     "text": [
      "Column 1 mean = 72.0\n",
      "Column 2 mean = 27.8\n",
      "Column 3 mean = 45.6\n",
      "Column 4 mean = 12.0\n",
      "Column 5 mean = 47.8\n"
     ]
    }
   ],
   "source": [
    "p1 = np.load('process1.npy')\n",
    "p2 = np.load('process2.npy')\n",
    "p3 = np.load('process3.npy')\n",
    "p4 = np.load('process4.npy')\n",
    "p5 = np.load('process5.npy')\n",
    "\n",
    "arr4 = np.vstack((p1,p2,p3,p4,p5))\n",
    "c1,c2,c3,c4,c5 = np.hsplit(arr4,5)\n",
    "\n",
    "print(f'Column 1 mean = {c1.mean()}')\n",
    "print(f'Column 2 mean = {c2.mean()}')\n",
    "print(f'Column 3 mean = {c3.mean()}')\n",
    "print(f'Column 4 mean = {c4.mean()}')\n",
    "print(f'Column 5 mean = {c5.mean()}')"
   ]
  },
  {
   "cell_type": "code",
   "execution_count": 40,
   "id": "013ae455",
   "metadata": {},
   "outputs": [
    {
     "data": {
      "text/plain": [
       "array([[52, 12, 81,  0, 58],\n",
       "       [96,  4, 61, 16, 43],\n",
       "       [38, 96, 45, 17, 58],\n",
       "       [97, 21, 22, 25,  6],\n",
       "       [77,  6, 19,  2, 74]], dtype=int32)"
      ]
     },
     "execution_count": 40,
     "metadata": {},
     "output_type": "execute_result"
    }
   ],
   "source": [
    "arr4 = np.vstack((p1,p2,p3,p4,p5))\n",
    "c1,c2,c3,c4,c5 = np.hsplit(arr4,5)\n",
    "arr4"
   ]
  }
 ],
 "metadata": {
  "kernelspec": {
   "display_name": "Python 3",
   "language": "python",
   "name": "python3"
  },
  "language_info": {
   "codemirror_mode": {
    "name": "ipython",
    "version": 3
   },
   "file_extension": ".py",
   "mimetype": "text/x-python",
   "name": "python",
   "nbconvert_exporter": "python",
   "pygments_lexer": "ipython3",
   "version": "3.8.8"
  }
 },
 "nbformat": 4,
 "nbformat_minor": 5
}
